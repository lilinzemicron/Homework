{
 "cells": [
  {
   "cell_type": "markdown",
   "id": "8b70748b-e70e-4677-afbc-0f991f625b19",
   "metadata": {},
   "source": [
    "# Title: My Assignment"
   ]
  },
  {
   "cell_type": "markdown",
   "id": "c71204e0-cfec-4006-b741-4de8f3720cb4",
   "metadata": {},
   "source": [
    "Introduction: this is my assgnment"
   ]
  },
  {
   "cell_type": "markdown",
   "id": "785436c1-6439-45ed-9e2d-5904b456091c",
   "metadata": {},
   "source": [
    "Data science languages: \n",
    "1. Python\n",
    "2. R\n",
    "3. SQL\n",
    "4. Java\n",
    "......"
   ]
  },
  {
   "cell_type": "markdown",
   "id": "182723cf-6bc0-4dcb-ab93-1be34746b861",
   "metadata": {},
   "source": [
    "Data science libraries: \n",
    "1. NumPy\n",
    "2. SciPy\n",
    "3. Pandas\n",
    "4. TensoFlow\n",
    "......"
   ]
  },
  {
   "cell_type": "markdown",
   "id": "842146e7-0185-4c29-b79d-f742d294c269",
   "metadata": {},
   "source": [
    "Data science tools: \n",
    "1. JupyterLab\n",
    "2. RStudio\n",
    "3. GitHub\n",
    "4. Watson Studio\n",
    "......"
   ]
  },
  {
   "cell_type": "markdown",
   "id": "7afb150e-8de5-497d-9204-278ded620414",
   "metadata": {},
   "source": [
    "arithmetic expression example: 5-4=1"
   ]
  },
  {
   "cell_type": "code",
   "execution_count": 1,
   "id": "70ee8d08-3c3e-4c20-a6e3-523c606d9e50",
   "metadata": {},
   "outputs": [
    {
     "data": {
      "text/plain": [
       "21"
      ]
     },
     "execution_count": 1,
     "metadata": {},
     "output_type": "execute_result"
    }
   ],
   "source": [
    "4*5+1"
   ]
  },
  {
   "cell_type": "code",
   "execution_count": 4,
   "id": "b7fe333a-1666-42a7-bd8d-85e74725082e",
   "metadata": {},
   "outputs": [],
   "source": [
    "mins=60\n",
    "hours=mins/60"
   ]
  },
  {
   "cell_type": "markdown",
   "id": "0d74a5e3-6f09-4cfc-b6d1-65815bb9e1d5",
   "metadata": {},
   "source": [
    "Objectives:\n",
    "1. A\n",
    "2. B\n",
    "3. C"
   ]
  },
  {
   "cell_type": "markdown",
   "id": "b05abbd6-b896-47ea-85e5-07d6fe9f3841",
   "metadata": {},
   "source": [
    "Author's name: Linze Li"
   ]
  },
  {
   "cell_type": "code",
   "execution_count": null,
   "id": "5b66a6a6-2dcf-4c97-a5ab-e5cb08e09fa7",
   "metadata": {},
   "outputs": [],
   "source": []
  }
 ],
 "metadata": {
  "kernelspec": {
   "display_name": "Python",
   "language": "python",
   "name": "conda-env-python-py"
  },
  "language_info": {
   "codemirror_mode": {
    "name": "ipython",
    "version": 3
   },
   "file_extension": ".py",
   "mimetype": "text/x-python",
   "name": "python",
   "nbconvert_exporter": "python",
   "pygments_lexer": "ipython3",
   "version": "3.7.12"
  }
 },
 "nbformat": 4,
 "nbformat_minor": 5
}
